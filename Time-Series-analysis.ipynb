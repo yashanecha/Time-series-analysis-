{
 "cells": [
  {
   "cell_type": "code",
   "execution_count": 5,
   "metadata": {},
   "outputs": [
    {
     "name": "stdout",
     "output_type": "stream",
     "text": [
      "Note: you may need to restart the kernel to use updated packages.\n"
     ]
    },
    {
     "name": "stderr",
     "output_type": "stream",
     "text": [
      "WARNING: Ignoring invalid distribution -rotobuf (c:\\users\\yashm\\.conda\\envs\\tensorflow\\lib\\site-packages)\n",
      "WARNING: Ignoring invalid distribution -rotobuf (c:\\users\\yashm\\.conda\\envs\\tensorflow\\lib\\site-packages)\n"
     ]
    }
   ],
   "source": [
    "pip install -r requirements.txt"
   ]
  },
  {
   "cell_type": "code",
   "execution_count": 6,
   "metadata": {},
   "outputs": [
    {
     "data": {
      "text/plain": [
       "0"
      ]
     },
     "execution_count": 6,
     "metadata": {},
     "output_type": "execute_result"
    }
   ],
   "source": [
    "__import__('subprocess').check_call([\"pip\", \"install\", \"-r\", \"requirements.txt\"])"
   ]
  },
  {
   "cell_type": "code",
   "execution_count": 9,
   "metadata": {},
   "outputs": [],
   "source": [
    "import pandas as pd\n",
    "import numpy as np\n",
    "import matplotlib.pyplot as plt\n",
    "import seaborn as sns"
   ]
  },
  {
   "cell_type": "code",
   "execution_count": 23,
   "metadata": {},
   "outputs": [],
   "source": [
    "df=pd.read_csv(\"C:/Users/yashm/OneDrive/Documents/GitHub/Time-series-analysis-/cleaned_weather.csv\", parse_dates=[\"date\"],index_col=['date'])"
   ]
  },
  {
   "cell_type": "code",
   "execution_count": 24,
   "metadata": {},
   "outputs": [
    {
     "data": {
      "text/html": [
       "<div>\n",
       "<style scoped>\n",
       "    .dataframe tbody tr th:only-of-type {\n",
       "        vertical-align: middle;\n",
       "    }\n",
       "\n",
       "    .dataframe tbody tr th {\n",
       "        vertical-align: top;\n",
       "    }\n",
       "\n",
       "    .dataframe thead th {\n",
       "        text-align: right;\n",
       "    }\n",
       "</style>\n",
       "<table border=\"1\" class=\"dataframe\">\n",
       "  <thead>\n",
       "    <tr style=\"text-align: right;\">\n",
       "      <th></th>\n",
       "      <th>p</th>\n",
       "      <th>T</th>\n",
       "      <th>Tpot</th>\n",
       "      <th>Tdew</th>\n",
       "      <th>rh</th>\n",
       "      <th>VPmax</th>\n",
       "      <th>VPact</th>\n",
       "      <th>VPdef</th>\n",
       "      <th>sh</th>\n",
       "      <th>H2OC</th>\n",
       "      <th>rho</th>\n",
       "      <th>wv</th>\n",
       "      <th>max. wv</th>\n",
       "      <th>wd</th>\n",
       "      <th>rain</th>\n",
       "      <th>raining</th>\n",
       "      <th>SWDR</th>\n",
       "      <th>PAR</th>\n",
       "      <th>max. PAR</th>\n",
       "      <th>Tlog</th>\n",
       "    </tr>\n",
       "    <tr>\n",
       "      <th>date</th>\n",
       "      <th></th>\n",
       "      <th></th>\n",
       "      <th></th>\n",
       "      <th></th>\n",
       "      <th></th>\n",
       "      <th></th>\n",
       "      <th></th>\n",
       "      <th></th>\n",
       "      <th></th>\n",
       "      <th></th>\n",
       "      <th></th>\n",
       "      <th></th>\n",
       "      <th></th>\n",
       "      <th></th>\n",
       "      <th></th>\n",
       "      <th></th>\n",
       "      <th></th>\n",
       "      <th></th>\n",
       "      <th></th>\n",
       "      <th></th>\n",
       "    </tr>\n",
       "  </thead>\n",
       "  <tbody>\n",
       "    <tr>\n",
       "      <th>2020-01-01 00:10:00</th>\n",
       "      <td>1008.89</td>\n",
       "      <td>0.71</td>\n",
       "      <td>273.18</td>\n",
       "      <td>-1.33</td>\n",
       "      <td>86.1</td>\n",
       "      <td>6.43</td>\n",
       "      <td>5.54</td>\n",
       "      <td>0.89</td>\n",
       "      <td>3.42</td>\n",
       "      <td>5.49</td>\n",
       "      <td>1280.62</td>\n",
       "      <td>1.02</td>\n",
       "      <td>1.60</td>\n",
       "      <td>224.3</td>\n",
       "      <td>0.0</td>\n",
       "      <td>0.0</td>\n",
       "      <td>0.0</td>\n",
       "      <td>0.0</td>\n",
       "      <td>0.0</td>\n",
       "      <td>11.45</td>\n",
       "    </tr>\n",
       "    <tr>\n",
       "      <th>2020-01-01 00:20:00</th>\n",
       "      <td>1008.76</td>\n",
       "      <td>0.75</td>\n",
       "      <td>273.22</td>\n",
       "      <td>-1.44</td>\n",
       "      <td>85.2</td>\n",
       "      <td>6.45</td>\n",
       "      <td>5.49</td>\n",
       "      <td>0.95</td>\n",
       "      <td>3.39</td>\n",
       "      <td>5.45</td>\n",
       "      <td>1280.33</td>\n",
       "      <td>0.43</td>\n",
       "      <td>0.84</td>\n",
       "      <td>206.8</td>\n",
       "      <td>0.0</td>\n",
       "      <td>0.0</td>\n",
       "      <td>0.0</td>\n",
       "      <td>0.0</td>\n",
       "      <td>0.0</td>\n",
       "      <td>11.51</td>\n",
       "    </tr>\n",
       "    <tr>\n",
       "      <th>2020-01-01 00:30:00</th>\n",
       "      <td>1008.66</td>\n",
       "      <td>0.73</td>\n",
       "      <td>273.21</td>\n",
       "      <td>-1.48</td>\n",
       "      <td>85.1</td>\n",
       "      <td>6.44</td>\n",
       "      <td>5.48</td>\n",
       "      <td>0.96</td>\n",
       "      <td>3.39</td>\n",
       "      <td>5.43</td>\n",
       "      <td>1280.29</td>\n",
       "      <td>0.61</td>\n",
       "      <td>1.48</td>\n",
       "      <td>197.1</td>\n",
       "      <td>0.0</td>\n",
       "      <td>0.0</td>\n",
       "      <td>0.0</td>\n",
       "      <td>0.0</td>\n",
       "      <td>0.0</td>\n",
       "      <td>11.60</td>\n",
       "    </tr>\n",
       "    <tr>\n",
       "      <th>2020-01-01 00:40:00</th>\n",
       "      <td>1008.64</td>\n",
       "      <td>0.37</td>\n",
       "      <td>272.86</td>\n",
       "      <td>-1.64</td>\n",
       "      <td>86.3</td>\n",
       "      <td>6.27</td>\n",
       "      <td>5.41</td>\n",
       "      <td>0.86</td>\n",
       "      <td>3.35</td>\n",
       "      <td>5.37</td>\n",
       "      <td>1281.97</td>\n",
       "      <td>1.11</td>\n",
       "      <td>1.48</td>\n",
       "      <td>206.4</td>\n",
       "      <td>0.0</td>\n",
       "      <td>0.0</td>\n",
       "      <td>0.0</td>\n",
       "      <td>0.0</td>\n",
       "      <td>0.0</td>\n",
       "      <td>11.70</td>\n",
       "    </tr>\n",
       "    <tr>\n",
       "      <th>2020-01-01 00:50:00</th>\n",
       "      <td>1008.61</td>\n",
       "      <td>0.33</td>\n",
       "      <td>272.82</td>\n",
       "      <td>-1.50</td>\n",
       "      <td>87.4</td>\n",
       "      <td>6.26</td>\n",
       "      <td>5.47</td>\n",
       "      <td>0.79</td>\n",
       "      <td>3.38</td>\n",
       "      <td>5.42</td>\n",
       "      <td>1282.08</td>\n",
       "      <td>0.49</td>\n",
       "      <td>1.40</td>\n",
       "      <td>209.6</td>\n",
       "      <td>0.0</td>\n",
       "      <td>0.0</td>\n",
       "      <td>0.0</td>\n",
       "      <td>0.0</td>\n",
       "      <td>0.0</td>\n",
       "      <td>11.81</td>\n",
       "    </tr>\n",
       "  </tbody>\n",
       "</table>\n",
       "</div>"
      ],
      "text/plain": [
       "                           p     T    Tpot  Tdew    rh  VPmax  VPact  VPdef  \\\n",
       "date                                                                          \n",
       "2020-01-01 00:10:00  1008.89  0.71  273.18 -1.33  86.1   6.43   5.54   0.89   \n",
       "2020-01-01 00:20:00  1008.76  0.75  273.22 -1.44  85.2   6.45   5.49   0.95   \n",
       "2020-01-01 00:30:00  1008.66  0.73  273.21 -1.48  85.1   6.44   5.48   0.96   \n",
       "2020-01-01 00:40:00  1008.64  0.37  272.86 -1.64  86.3   6.27   5.41   0.86   \n",
       "2020-01-01 00:50:00  1008.61  0.33  272.82 -1.50  87.4   6.26   5.47   0.79   \n",
       "\n",
       "                       sh  H2OC      rho    wv  max. wv     wd  rain  raining  \\\n",
       "date                                                                            \n",
       "2020-01-01 00:10:00  3.42  5.49  1280.62  1.02     1.60  224.3   0.0      0.0   \n",
       "2020-01-01 00:20:00  3.39  5.45  1280.33  0.43     0.84  206.8   0.0      0.0   \n",
       "2020-01-01 00:30:00  3.39  5.43  1280.29  0.61     1.48  197.1   0.0      0.0   \n",
       "2020-01-01 00:40:00  3.35  5.37  1281.97  1.11     1.48  206.4   0.0      0.0   \n",
       "2020-01-01 00:50:00  3.38  5.42  1282.08  0.49     1.40  209.6   0.0      0.0   \n",
       "\n",
       "                     SWDR  PAR  max. PAR   Tlog  \n",
       "date                                             \n",
       "2020-01-01 00:10:00   0.0  0.0       0.0  11.45  \n",
       "2020-01-01 00:20:00   0.0  0.0       0.0  11.51  \n",
       "2020-01-01 00:30:00   0.0  0.0       0.0  11.60  \n",
       "2020-01-01 00:40:00   0.0  0.0       0.0  11.70  \n",
       "2020-01-01 00:50:00   0.0  0.0       0.0  11.81  "
      ]
     },
     "execution_count": 24,
     "metadata": {},
     "output_type": "execute_result"
    }
   ],
   "source": [
    "df.head()"
   ]
  },
  {
   "cell_type": "code",
   "execution_count": 22,
   "metadata": {},
   "outputs": [
    {
     "data": {
      "text/plain": [
       "pandas._libs.tslibs.timestamps.Timestamp"
      ]
     },
     "execution_count": 22,
     "metadata": {},
     "output_type": "execute_result"
    }
   ],
   "source": [
    "type(df.date[0])"
   ]
  },
  {
   "cell_type": "code",
   "execution_count": null,
   "metadata": {},
   "outputs": [],
   "source": []
  },
  {
   "cell_type": "code",
   "execution_count": null,
   "metadata": {},
   "outputs": [],
   "source": []
  }
 ],
 "metadata": {
  "kernelspec": {
   "display_name": "Tensorflow",
   "language": "python",
   "name": "python3"
  },
  "language_info": {
   "codemirror_mode": {
    "name": "ipython",
    "version": 3
   },
   "file_extension": ".py",
   "mimetype": "text/x-python",
   "name": "python",
   "nbconvert_exporter": "python",
   "pygments_lexer": "ipython3",
   "version": "3.9.17"
  }
 },
 "nbformat": 4,
 "nbformat_minor": 2
}
